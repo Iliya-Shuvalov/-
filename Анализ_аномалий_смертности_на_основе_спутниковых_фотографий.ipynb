{
 "cells": [
  {
   "attachments": {},
   "cell_type": "markdown",
   "id": "fc57e14c",
   "metadata": {},
   "source": [
    "ПОИСК И ИЗУЧЕНИЕ АНОМАЛИЙ СМЕРТНОСТИ НА ОСНОВАНИИ АНАЛИЗА СПУТНИКОВЫХ ФОТОГРАФИЙ ГОРОДСКИХ КЛАДБИЩ"
   ]
  },
  {
   "attachments": {},
   "cell_type": "markdown",
   "id": "93345e15",
   "metadata": {},
   "source": [
    "Описание данных.\n",
    "В нашем распоряжении имеются спутниковые фотографии всех эксплуатируемых городских кладбищ, сделанные в разные периоды времени на протяжении более 10 лет. Спутниковые фотографии взяты из открытых источников (Google Earth). Каждая фотография была отмасштабирована в среде AutoCAD, данные об увеличении площади по сравнению с предыдущей фотографией (сделаной ранее) занесены в таблицу. Определена динамика увеличения площади захоронений для трёх действующих кладбищ. hohr_area.xlsx - динамика увеличения площади захоронений для Хохряковского кладбища, south_area.xlsx - динамика увеличения площади захоронений для Южного кладбища, west_area.xlsx - - динамика увеличения площади захоронений для Западного кладбища. Площадь захоронений приведена в квадратных метрах.\n",
    "\n",
    "Постановка задачи.\n",
    "Основываясь на объективных данных спутниковых фотографий, определить возможные аномалии в смертности в период с 2013 по 2023 год"
   ]
  },
  {
   "cell_type": "code",
   "execution_count": 1,
   "id": "eaf76ed3",
   "metadata": {},
   "outputs": [],
   "source": [
    "import matplotlib.pyplot as plt\n",
    "import numpy as np\n",
    "import pandas as pd"
   ]
  },
  {
   "cell_type": "code",
   "execution_count": 2,
   "id": "8ca1d485",
   "metadata": {},
   "outputs": [],
   "source": [
    "# загрузка данных\n",
    "data_hohr = pd.read_excel('D:\\Захоронения\\hohr_area.xlsx')\n",
    "data_south = pd.read_excel('D:\\Захоронения\\south_area.xlsx')\n",
    "data_west = pd.read_excel('D:\\Захоронения\\west_area.xlsx')"
   ]
  },
  {
   "cell_type": "code",
   "execution_count": 3,
   "id": "dcdccc86",
   "metadata": {},
   "outputs": [
    {
     "data": {
      "text/html": [
       "<div>\n",
       "<style scoped>\n",
       "    .dataframe tbody tr th:only-of-type {\n",
       "        vertical-align: middle;\n",
       "    }\n",
       "\n",
       "    .dataframe tbody tr th {\n",
       "        vertical-align: top;\n",
       "    }\n",
       "\n",
       "    .dataframe thead th {\n",
       "        text-align: right;\n",
       "    }\n",
       "</style>\n",
       "<table border=\"1\" class=\"dataframe\">\n",
       "  <thead>\n",
       "    <tr style=\"text-align: right;\">\n",
       "      <th></th>\n",
       "      <th>datetime</th>\n",
       "      <th>delta_area</th>\n",
       "    </tr>\n",
       "  </thead>\n",
       "  <tbody>\n",
       "    <tr>\n",
       "      <th>0</th>\n",
       "      <td>2011-08-01</td>\n",
       "      <td>0</td>\n",
       "    </tr>\n",
       "    <tr>\n",
       "      <th>1</th>\n",
       "      <td>2013-07-01</td>\n",
       "      <td>23831</td>\n",
       "    </tr>\n",
       "    <tr>\n",
       "      <th>2</th>\n",
       "      <td>2014-05-01</td>\n",
       "      <td>2601</td>\n",
       "    </tr>\n",
       "    <tr>\n",
       "      <th>3</th>\n",
       "      <td>2014-09-01</td>\n",
       "      <td>531</td>\n",
       "    </tr>\n",
       "    <tr>\n",
       "      <th>4</th>\n",
       "      <td>2015-09-01</td>\n",
       "      <td>1011</td>\n",
       "    </tr>\n",
       "  </tbody>\n",
       "</table>\n",
       "</div>"
      ],
      "text/plain": [
       "    datetime  delta_area\n",
       "0 2011-08-01           0\n",
       "1 2013-07-01       23831\n",
       "2 2014-05-01        2601\n",
       "3 2014-09-01         531\n",
       "4 2015-09-01        1011"
      ]
     },
     "execution_count": 3,
     "metadata": {},
     "output_type": "execute_result"
    }
   ],
   "source": [
    "# первые пять строк датафрейма (Южное кладбище)\n",
    "data_south.head()"
   ]
  },
  {
   "cell_type": "code",
   "execution_count": 4,
   "id": "9859305a",
   "metadata": {},
   "outputs": [
    {
     "name": "stdout",
     "output_type": "stream",
     "text": [
      "<class 'pandas.core.frame.DataFrame'>\n",
      "RangeIndex: 17 entries, 0 to 16\n",
      "Data columns (total 2 columns):\n",
      " #   Column      Non-Null Count  Dtype         \n",
      "---  ------      --------------  -----         \n",
      " 0   datetime    17 non-null     datetime64[ns]\n",
      " 1   delta_area  17 non-null     int64         \n",
      "dtypes: datetime64[ns](1), int64(1)\n",
      "memory usage: 400.0 bytes\n"
     ]
    }
   ],
   "source": [
    "# первые пять строк датафрейма (Южное кладбище)\n",
    "data_south.info()"
   ]
  },
  {
   "cell_type": "code",
   "execution_count": 5,
   "id": "030c2fed",
   "metadata": {},
   "outputs": [
    {
     "name": "stdout",
     "output_type": "stream",
     "text": [
      "Даты фотографий хохряковского кладбища\n",
      "['2011-05-01T00:00:00.000000000' '2014-05-01T00:00:00.000000000'\n",
      " '2016-07-01T00:00:00.000000000' '2017-09-01T00:00:00.000000000'\n",
      " '2018-07-01T00:00:00.000000000' '2018-09-01T00:00:00.000000000'\n",
      " '2020-05-01T00:00:00.000000000' '2020-09-01T00:00:00.000000000'\n",
      " '2021-04-01T00:00:00.000000000' '2021-07-01T00:00:00.000000000'\n",
      " '2023-04-01T00:00:00.000000000']\n",
      "Даты фотографий южного кладбища\n",
      "['2011-08-01T00:00:00.000000000' '2013-07-01T00:00:00.000000000'\n",
      " '2014-05-01T00:00:00.000000000' '2014-09-01T00:00:00.000000000'\n",
      " '2015-09-01T00:00:00.000000000' '2016-05-01T00:00:00.000000000'\n",
      " '2016-07-01T00:00:00.000000000' '2017-05-01T00:00:00.000000000'\n",
      " '2017-08-01T00:00:00.000000000' '2018-07-01T00:00:00.000000000'\n",
      " '2018-09-01T00:00:00.000000000' '2020-05-01T00:00:00.000000000'\n",
      " '2020-08-01T00:00:00.000000000' '2021-04-01T00:00:00.000000000'\n",
      " '2021-07-01T00:00:00.000000000' '2022-06-01T00:00:00.000000000'\n",
      " '2023-04-01T00:00:00.000000000']\n",
      "Даты фотографий западного кладбища\n",
      "['2013-07-01T00:00:00.000000000' '2014-09-01T00:00:00.000000000'\n",
      " '2015-05-01T00:00:00.000000000' '2016-05-01T00:00:00.000000000'\n",
      " '2017-05-01T00:00:00.000000000' '2018-07-01T00:00:00.000000000'\n",
      " '2020-05-01T00:00:00.000000000' '2020-08-01T00:00:00.000000000'\n",
      " '2020-09-01T00:00:00.000000000' '2021-04-01T00:00:00.000000000'\n",
      " '2021-05-01T00:00:00.000000000' '2022-06-01T00:00:00.000000000'\n",
      " '2023-04-01T00:00:00.000000000']\n"
     ]
    }
   ],
   "source": [
    "# посмотрим даты имеющихся фотографий на основании которых будет выполнен анализ\n",
    "print('Даты фотографий хохряковского кладбища')\n",
    "print(data_hohr['datetime'].unique())\n",
    "print('Даты фотографий южного кладбища')\n",
    "print(data_south['datetime'].unique())\n",
    "print('Даты фотографий западного кладбища')\n",
    "print(data_west['datetime'].unique())"
   ]
  },
  {
   "attachments": {},
   "cell_type": "markdown",
   "id": "56835146",
   "metadata": {},
   "source": [
    "Из анализа данных об имеющихся фотографиях следует:  \n",
    "- отсутствуют фотографии за 2019 год;\n",
    "- месяц и год фотографий кладбищ не всегда совпадают.\n",
    "\n",
    "Для суммирования данных по площадям захоронений на всех кладбищах осуществим ресемплинг временного ряда по месяцам, данные заполним интерполяцией между соседними известными значениями для каждого кладбища, после этого сложим помесячные площади захоронений на трёх кладбищах (например, площади закоронений за август 2015 для хоряковского, южного и западного кладбища)"
   ]
  },
  {
   "cell_type": "code",
   "execution_count": 6,
   "id": "284bae83",
   "metadata": {},
   "outputs": [],
   "source": [
    "# Напишем функцию для предобработки датафреймов\n",
    "def data_preprocessing(data):\n",
    "\n",
    "    #создаём столбец с куммулятивной суммой (сумма с нарастающим итогом)\n",
    "    data['cum_area'] = data['delta_area'].cumsum()\n",
    "\n",
    "    # преобразуем столбец datetime в тип datetime\n",
    "    data['datetime'] = pd.to_datetime(data['datetime'], format='%d.%m.%y %H:%M')\n",
    "  \n",
    "    # установка даты и времени в качестве индекса\n",
    "    data = data.set_index('datetime')\n",
    "\n",
    "    # ресемплинг \n",
    "    data = data.resample('M').mean()\n",
    "    \n",
    "    # линейная интерполяция пропущенных значений в данных \n",
    "    data['cum_area'] = data['cum_area'].interpolate(method='polynomial', order=1)\n",
    "\n",
    "    # сдвинем данные из столбца cum_area вперед на один шаг\n",
    "    data['cum_area_shift'] = data['cum_area'].shift(1)\n",
    "    \n",
    "    # создадим столбец с значениями добавки площади в месяц area_month\n",
    "    data['area_month'] = data['cum_area'] - data['cum_area_shift']\n",
    "\n",
    "    # удалим пропуски в данных после shift\n",
    "    data = data[1:]\n",
    "\n",
    "    return data"
   ]
  },
  {
   "cell_type": "code",
   "execution_count": 7,
   "id": "671e540b",
   "metadata": {},
   "outputs": [],
   "source": [
    "data_hohr = data_preprocessing(data_hohr)\n",
    "data_south = data_preprocessing(data_south)\n",
    "data_west = data_preprocessing(data_west)"
   ]
  },
  {
   "cell_type": "code",
   "execution_count": 8,
   "id": "4fb71f25",
   "metadata": {},
   "outputs": [
    {
     "data": {
      "text/html": [
       "<div>\n",
       "<style scoped>\n",
       "    .dataframe tbody tr th:only-of-type {\n",
       "        vertical-align: middle;\n",
       "    }\n",
       "\n",
       "    .dataframe tbody tr th {\n",
       "        vertical-align: top;\n",
       "    }\n",
       "\n",
       "    .dataframe thead th {\n",
       "        text-align: right;\n",
       "    }\n",
       "</style>\n",
       "<table border=\"1\" class=\"dataframe\">\n",
       "  <thead>\n",
       "    <tr style=\"text-align: right;\">\n",
       "      <th></th>\n",
       "      <th>delta_area</th>\n",
       "      <th>cum_area</th>\n",
       "      <th>cum_area_shift</th>\n",
       "      <th>area_month</th>\n",
       "    </tr>\n",
       "    <tr>\n",
       "      <th>datetime</th>\n",
       "      <th></th>\n",
       "      <th></th>\n",
       "      <th></th>\n",
       "      <th></th>\n",
       "    </tr>\n",
       "  </thead>\n",
       "  <tbody>\n",
       "    <tr>\n",
       "      <th>2011-06-30</th>\n",
       "      <td>NaN</td>\n",
       "      <td>36.925182</td>\n",
       "      <td>0.000000</td>\n",
       "      <td>36.925182</td>\n",
       "    </tr>\n",
       "    <tr>\n",
       "      <th>2011-07-31</th>\n",
       "      <td>NaN</td>\n",
       "      <td>75.081204</td>\n",
       "      <td>36.925182</td>\n",
       "      <td>38.156022</td>\n",
       "    </tr>\n",
       "    <tr>\n",
       "      <th>2011-08-31</th>\n",
       "      <td>NaN</td>\n",
       "      <td>113.237226</td>\n",
       "      <td>75.081204</td>\n",
       "      <td>38.156022</td>\n",
       "    </tr>\n",
       "    <tr>\n",
       "      <th>2011-09-30</th>\n",
       "      <td>NaN</td>\n",
       "      <td>150.162409</td>\n",
       "      <td>113.237226</td>\n",
       "      <td>36.925182</td>\n",
       "    </tr>\n",
       "    <tr>\n",
       "      <th>2011-10-31</th>\n",
       "      <td>NaN</td>\n",
       "      <td>188.318431</td>\n",
       "      <td>150.162409</td>\n",
       "      <td>38.156022</td>\n",
       "    </tr>\n",
       "  </tbody>\n",
       "</table>\n",
       "</div>"
      ],
      "text/plain": [
       "            delta_area    cum_area  cum_area_shift  area_month\n",
       "datetime                                                      \n",
       "2011-06-30         NaN   36.925182        0.000000   36.925182\n",
       "2011-07-31         NaN   75.081204       36.925182   38.156022\n",
       "2011-08-31         NaN  113.237226       75.081204   38.156022\n",
       "2011-09-30         NaN  150.162409      113.237226   36.925182\n",
       "2011-10-31         NaN  188.318431      150.162409   38.156022"
      ]
     },
     "execution_count": 8,
     "metadata": {},
     "output_type": "execute_result"
    }
   ],
   "source": [
    "data_hohr.head()"
   ]
  },
  {
   "cell_type": "code",
   "execution_count": 9,
   "id": "52dbe3d9",
   "metadata": {},
   "outputs": [
    {
     "name": "stdout",
     "output_type": "stream",
     "text": [
      "минимальный общий начальный индекс у трёх датафреймов = 2013-08-31 00:00:00\n",
      "минимальный общий конечный индекс у трёх датафреймов = 2023-04-30 00:00:00\n"
     ]
    }
   ],
   "source": [
    "# минимальный общий начальный индекс у трёх датафреймов\n",
    "min_index = max([data_hohr.index.min(), data_south.index.min(), data_west.index.min()])\n",
    "print('минимальный общий начальный индекс у трёх датафреймов =', min_index)\n",
    "\n",
    "# минимальный общий конечный индекс у трёх датафреймов\n",
    "max_index = min([data_hohr.index.max(), data_south.index.max(), data_west.index.max()])\n",
    "print('минимальный общий конечный индекс у трёх датафреймов =', max_index)"
   ]
  },
  {
   "cell_type": "code",
   "execution_count": 10,
   "id": "41744824",
   "metadata": {},
   "outputs": [],
   "source": [
    "# выровняем датафреймы по общей начальной и конечной дате\n",
    "data_hohr = data_hohr[min_index:max_index]\n",
    "data_south = data_south[min_index:max_index]\n",
    "data_west = data_west[min_index:max_index]"
   ]
  },
  {
   "cell_type": "code",
   "execution_count": 11,
   "id": "16f1c803",
   "metadata": {},
   "outputs": [],
   "source": [
    "# создадим датафрейм из столбцов delta_area из соответствующих датафреймов\n",
    "data_sum = pd.DataFrame({\n",
    "    'area_month_hohr': data_hohr['area_month'],\n",
    "    'area_month_south': data_south['area_month'],\n",
    "    'area_month_west': data_west['area_month']\n",
    "})\n",
    "\n",
    "# создадим столбец sum_delta_area с суммой значений из трех столбцов delta_area\n",
    "data_sum['sum_area_month'] = data_sum.sum(axis=1)"
   ]
  },
  {
   "cell_type": "code",
   "execution_count": 12,
   "id": "075fdef1",
   "metadata": {},
   "outputs": [],
   "source": [
    "# создадим столбец 'mean_area_2013_2019' со средней площадью ежемесячных захоронений в период 2013 - 2019 год\n",
    "mean_area_2013_2019 = round(data_sum['2013-07':'2019-12']['sum_area_month'].mean())\n",
    "data_sum['mean_area_2013_2019'] = mean_area_2013_2019\n"
   ]
  },
  {
   "cell_type": "code",
   "execution_count": 13,
   "id": "3c639c60",
   "metadata": {},
   "outputs": [],
   "source": [
    "# сгладим неровности путём даунсемплинга данных до 4 месяцев\n",
    "downsampled_data = data_sum.resample('4M').mean()\n",
    "downsampled_data.index = downsampled_data.index.to_period('M')"
   ]
  },
  {
   "cell_type": "code",
   "execution_count": 14,
   "id": "c311db03",
   "metadata": {},
   "outputs": [
    {
     "data": {
      "text/html": [
       "<div>\n",
       "<style scoped>\n",
       "    .dataframe tbody tr th:only-of-type {\n",
       "        vertical-align: middle;\n",
       "    }\n",
       "\n",
       "    .dataframe tbody tr th {\n",
       "        vertical-align: top;\n",
       "    }\n",
       "\n",
       "    .dataframe thead th {\n",
       "        text-align: right;\n",
       "    }\n",
       "</style>\n",
       "<table border=\"1\" class=\"dataframe\">\n",
       "  <thead>\n",
       "    <tr style=\"text-align: right;\">\n",
       "      <th></th>\n",
       "      <th>area_month_hohr</th>\n",
       "      <th>area_month_south</th>\n",
       "      <th>area_month_west</th>\n",
       "      <th>sum_area_month</th>\n",
       "      <th>mean_area_2013_2019</th>\n",
       "    </tr>\n",
       "    <tr>\n",
       "      <th>datetime</th>\n",
       "      <th></th>\n",
       "      <th></th>\n",
       "      <th></th>\n",
       "      <th></th>\n",
       "      <th></th>\n",
       "    </tr>\n",
       "  </thead>\n",
       "  <tbody>\n",
       "    <tr>\n",
       "      <th>2013-08</th>\n",
       "      <td>38.156022</td>\n",
       "      <td>265.233553</td>\n",
       "      <td>1928.840376</td>\n",
       "      <td>2232.229950</td>\n",
       "      <td>2235.0</td>\n",
       "    </tr>\n",
       "    <tr>\n",
       "      <th>2013-12</th>\n",
       "      <td>37.540602</td>\n",
       "      <td>260.955592</td>\n",
       "      <td>1897.730047</td>\n",
       "      <td>2196.226241</td>\n",
       "      <td>2235.0</td>\n",
       "    </tr>\n",
       "    <tr>\n",
       "      <th>2014-04</th>\n",
       "      <td>36.925182</td>\n",
       "      <td>256.677632</td>\n",
       "      <td>1866.619718</td>\n",
       "      <td>2160.222532</td>\n",
       "      <td>2235.0</td>\n",
       "    </tr>\n",
       "    <tr>\n",
       "      <th>2014-08</th>\n",
       "      <td>30.506177</td>\n",
       "      <td>166.414946</td>\n",
       "      <td>1913.285211</td>\n",
       "      <td>2110.206334</td>\n",
       "      <td>2235.0</td>\n",
       "    </tr>\n",
       "    <tr>\n",
       "      <th>2014-12</th>\n",
       "      <td>27.804293</td>\n",
       "      <td>96.350292</td>\n",
       "      <td>2302.301020</td>\n",
       "      <td>2426.455605</td>\n",
       "      <td>2235.0</td>\n",
       "    </tr>\n",
       "  </tbody>\n",
       "</table>\n",
       "</div>"
      ],
      "text/plain": [
       "          area_month_hohr  area_month_south  area_month_west  sum_area_month  \\\n",
       "datetime                                                                       \n",
       "2013-08         38.156022        265.233553      1928.840376     2232.229950   \n",
       "2013-12         37.540602        260.955592      1897.730047     2196.226241   \n",
       "2014-04         36.925182        256.677632      1866.619718     2160.222532   \n",
       "2014-08         30.506177        166.414946      1913.285211     2110.206334   \n",
       "2014-12         27.804293         96.350292      2302.301020     2426.455605   \n",
       "\n",
       "          mean_area_2013_2019  \n",
       "datetime                       \n",
       "2013-08                2235.0  \n",
       "2013-12                2235.0  \n",
       "2014-04                2235.0  \n",
       "2014-08                2235.0  \n",
       "2014-12                2235.0  "
      ]
     },
     "execution_count": 14,
     "metadata": {},
     "output_type": "execute_result"
    }
   ],
   "source": [
    "# первые пять строк, получившегося после даунсемплинга датасета\n",
    "downsampled_data.head()"
   ]
  },
  {
   "cell_type": "code",
   "execution_count": 15,
   "id": "1b0dee31",
   "metadata": {},
   "outputs": [
    {
     "data": {
      "image/png": "[encoded data removed]",
      "text/plain": [
       "<Figure size 1080x288 with 1 Axes>"
      ]
     },
     "metadata": {
      "needs_background": "light"
     },
     "output_type": "display_data"
    }
   ],
   "source": [
    "# преобразование индекса в формат datetime с использованием to_timestamp\n",
    "downsampled_data.index = downsampled_data.index.to_timestamp()\n",
    "\n",
    "# построение графика\n",
    "plt.figure(figsize=(15, 4))\n",
    "plt.plot(downsampled_data.index, downsampled_data['sum_area_month'], label='Суммарная площадь захоронений', linestyle='--', color='black')\n",
    "plt.plot(downsampled_data.index, downsampled_data['mean_area_2013_2019'], label='средняя площадь захоронений в 2013 - 2019 годах')\n",
    "plt.xlabel('год')\n",
    "plt.ylabel('Площадь кв.м./мес')\n",
    "plt.title('Изменение площадей захоронений г.Ижевска')\n",
    "plt.legend()\n",
    "plt.grid(True)\n",
    "plt.show()"
   ]
  },
  {
   "attachments": {},
   "cell_type": "markdown",
   "id": "6fa03529",
   "metadata": {},
   "source": [
    "На графике отчётливо наблюдается резкий рост числа захоронений в период с июня 2020 года по июнь 2021 с дальнейшим плавным снижением в сторону средних значений. Превышение смертности в этот период составляло до 50% среднего числа ежемесячных захоронений в период 2013-2019 годы.\n",
    "\n",
    "С начала 2022 года наблюдается новый тренд роста числа зарорнений. Превышение смертности относительно средних значений в период 2013 - 2019 годы составляет около 25% среднего числа ежемесячных захоронений в период 2013-2019 годы.\n",
    "\n",
    "Превышение уровня смертности в 2019 - 2020 годах (\"горка\"), вероятнее всего связана с особенностями интерполяции, в связи с отсутствием спутниковых фотографий в период июля 2018 - май 2020 года.\n",
    "\n",
    "Проведём количественную оценку превышения числа захоронений в  период с 2020-05 по 2022-01"
   ]
  },
  {
   "cell_type": "code",
   "execution_count": 16,
   "id": "8640c8a2",
   "metadata": {},
   "outputs": [
    {
     "name": "stdout",
     "output_type": "stream",
     "text": [
      "Избыточная площадь захоронений в период 2020-05 по 2022-01 составляет 15309 кв.м.\n",
      "2783 - эквивалентное число захоронений\n"
     ]
    }
   ],
   "source": [
    "# рассмотрим данные за период июнь 2020 - январь 2022 года\n",
    "data_sum1 = data_sum['2020-05':'2022-01']\n",
    "\n",
    "# избыточная площадь захоронений за данный период\n",
    "delta_covid = data_sum1['sum_area_month'].sum() - mean_area_2013_2019*20\n",
    "print('Избыточная площадь захоронений в период 2020-05 по 2022-01 составляет', round(delta_covid), 'кв.м.')\n",
    "print(round(delta_covid/(2.2*2.5)),'- эквивалентное число захоронений')"
   ]
  },
  {
   "attachments": {},
   "cell_type": "markdown",
   "id": "be24fa97",
   "metadata": {},
   "source": [
    "Таким образом, избыточная площадь захоронений (относительно 2013 - 2019 года) составила 15309 кв.м. за период с мая 2020 по январь 2022 года, что эквивалентно* 2783 дополнительным захоронениям.\n",
    "\n",
    "Данная оценка не учитывает возможные захоронения могила в могилу, с учетом которой общее количество захоронений может быть выше\n",
    "\n",
    "(*) -  с учетом некоторых допущений"
   ]
  }
 ],
 "metadata": {
  "kernelspec": {
   "display_name": "Python 3 (ipykernel)",
   "language": "python",
   "name": "python3"
  },
  "language_info": {
   "codemirror_mode": {
    "name": "ipython",
    "version": 3
   },
   "file_extension": ".py",
   "mimetype": "text/x-python",
   "name": "python",
   "nbconvert_exporter": "python",
   "pygments_lexer": "ipython3",
   "version": "3.9.12"
  }
 },
 "nbformat": 4,
 "nbformat_minor": 5
}
